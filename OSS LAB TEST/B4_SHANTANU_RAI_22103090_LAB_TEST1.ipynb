{
 "cells": [
  {
   "cell_type": "code",
   "execution_count": 2,
   "id": "e462f10a",
   "metadata": {},
   "outputs": [],
   "source": [
    "import numpy as np\n",
    "\n",
    "# 1\n",
    "patient_list = np.array([\n",
    "    [1, \"ram\", 101, \"Personal Info\", \"Medical History\", \"Treatment Details\", \"Room 101\", 1000],\n",
    "    [2, \"shyam\", 102, \"Personal Info\", \"Medical History\", \"Treatment Details\", \"Room 102\", 2000],\n",
    "    [3, \"rema\", 101, \"Personal Info\", \"Medical History\", \"Treatment Details\", \"Room 103\", 3000],\n",
    "    [4, \"shan\", 103, \"Personal Info\", \"Medical History\", \"Treatment Details\", \"Room 104\", 4000],\n",
    "    [5, \"dev\", 102, \"Personal Info\", \"Medical History\", \"Treatment Details\", \"Room 105\", 5000]\n",
    "], dtype=object)\n",
    "\n",
    "\n",
    "# 2.\n",
    "doctor_list = np.array([\n",
    "    [101, \"Dr. Sam\", \"Cardiologist\"],\n",
    "    [102, \"Dr. John\", \"Neurologist\"],\n",
    "    [103, \"Dr. Sid\", \"Oncologist\"]\n",
    "], dtype=object)\n"
   ]
  },
  {
   "cell_type": "code",
   "execution_count": 3,
   "id": "ed0eeb76",
   "metadata": {},
   "outputs": [],
   "source": [
    "# 3\n",
    "def find_patients_by_doctor(doctor_id):\n",
    "    return patient_list[patient_list[:, 2] == doctor_id]\n"
   ]
  },
  {
   "cell_type": "code",
   "execution_count": 8,
   "id": "235354ab",
   "metadata": {},
   "outputs": [],
   "source": [
    "# 4 \n",
    "def update_treatment(patient_id, new_treatment):\n",
    "    patient_list[patient_list[:, 0] == patient_id, 5] = new_treatment\n",
    "\n",
    "    "
   ]
  },
  {
   "cell_type": "code",
   "execution_count": 14,
   "id": "404658b8",
   "metadata": {},
   "outputs": [
    {
     "ename": "SyntaxError",
     "evalue": "closing parenthesis ')' does not match opening parenthesis '[' (352015121.py, line 6)",
     "output_type": "error",
     "traceback": [
      "\u001b[1;36m  Cell \u001b[1;32mIn[14], line 6\u001b[1;36m\u001b[0m\n\u001b[1;33m    max_doctors = doctor_list[np.isin(doctor_list[:, 0], patient_list[:, 2][patient_list[:, 2] == np.unique(patient_list[:, 2])[np.argmax(patient_counts)])]\u001b[0m\n\u001b[1;37m                                                                                                                                                          ^\u001b[0m\n\u001b[1;31mSyntaxError\u001b[0m\u001b[1;31m:\u001b[0m closing parenthesis ')' does not match opening parenthesis '['\n"
     ]
    }
   ],
   "source": [
    "# 5\n",
    "def find_doctors_with_max_min_patients():\n",
    "    patient_counts = np.unique(patient_list[:, 2], return_counts=True)[1]\n",
    "    max_count = np.max(patient_counts)\n",
    "    min_count = np.min(patient_counts)\n",
    "    max_doctors = doctor_list[np.isin(doctor_list[:, 0], patient_list[:, 2][patient_list[:, 2] == np.unique(patient_list[:, 2])[np.argmax(patient_counts)])]\n",
    "    min_doctors = doctor_list[np.isin(doctor_list[:, 0], patient_list[:, 2][patient_list[:, 2] == np.unique(patient_list[:, 2])[np.argmin(patient_counts)])]\n",
    "    return max_doctors[:, 0], min_doctors[:, 0]\n"
   ]
  },
  {
   "cell_type": "code",
   "execution_count": 5,
   "id": "ab4f12d9",
   "metadata": {},
   "outputs": [],
   "source": [
    "# 6\n",
    "def find_patients_with_max_min_bill():\n",
    "    max_bill = np.max(patient_list[:, 7].astype(int))\n",
    "    min_bill = np.min(patient_list[:, 7].astype(int))\n",
    "    max_patient = patient_list[patient_list[:, 7] == str(max_bill)]\n",
    "    min_patient = patient_list[patient_list[:, 7] == str(min_bill)]\n",
    "    return max_patient, min_patient\n"
   ]
  },
  {
   "cell_type": "code",
   "execution_count": 6,
   "id": "ae291107",
   "metadata": {},
   "outputs": [
    {
     "name": "stdout",
     "output_type": "stream",
     "text": [
      "[[1 'ram' 101 'Personal Info' 'Medical History' 'Treatment Details'\n",
      "  'Room 101' 1000]\n",
      " [3 'rema' 101 'Personal Info' 'Medical History' 'Treatment Details'\n",
      "  'Room 103' 3000]]\n"
     ]
    }
   ],
   "source": [
    "print(find_patients_by_doctor(101))\n"
   ]
  },
  {
   "cell_type": "code",
   "execution_count": 9,
   "id": "7a929615",
   "metadata": {},
   "outputs": [
    {
     "name": "stdout",
     "output_type": "stream",
     "text": [
      "[[1 'ram' 101 'Personal Info' 'New Treatment' 'New Treatment' 'Room 101'\n",
      "  1000]\n",
      " [2 'shyam' 102 'Personal Info' 'Medical History' 'Treatment Details'\n",
      "  'Room 102' 2000]\n",
      " [3 'rema' 101 'Personal Info' 'Medical History' 'Treatment Details'\n",
      "  'Room 103' 3000]\n",
      " [4 'shan' 103 'Personal Info' 'Medical History' 'Treatment Details'\n",
      "  'Room 104' 4000]\n",
      " [5 'dev' 102 'Personal Info' 'Medical History' 'Treatment Details'\n",
      "  'Room 105' 5000]]\n"
     ]
    }
   ],
   "source": [
    "update_treatment(1, \"New Treatment\")\n",
    "print(patient_list)"
   ]
  },
  {
   "cell_type": "code",
   "execution_count": 11,
   "id": "020b1e82",
   "metadata": {},
   "outputs": [
    {
     "name": "stdout",
     "output_type": "stream",
     "text": [
      "Max Patient: []\n",
      "Min Patient: []\n"
     ]
    }
   ],
   "source": [
    "max_patient, min_patient = find_patients_with_max_min_bill()\n",
    "print(\"Max Patient:\", max_patient)\n",
    "print(\"Min Patient:\", min_patient)"
   ]
  },
  {
   "cell_type": "code",
   "execution_count": 15,
   "id": "4e69d28c",
   "metadata": {},
   "outputs": [
    {
     "ename": "NameError",
     "evalue": "name 'find_doctors_with_max_min_patients' is not defined",
     "output_type": "error",
     "traceback": [
      "\u001b[1;31m---------------------------------------------------------------------------\u001b[0m",
      "\u001b[1;31mNameError\u001b[0m                                 Traceback (most recent call last)",
      "Cell \u001b[1;32mIn[15], line 1\u001b[0m\n\u001b[1;32m----> 1\u001b[0m max_doctors, min_doctors \u001b[38;5;241m=\u001b[39m find_doctors_with_max_min_patients()\n\u001b[0;32m      2\u001b[0m \u001b[38;5;28mprint\u001b[39m(\u001b[38;5;124m\"\u001b[39m\u001b[38;5;124mMax Doctors:\u001b[39m\u001b[38;5;124m\"\u001b[39m, max_doctors)\n\u001b[0;32m      3\u001b[0m \u001b[38;5;28mprint\u001b[39m(\u001b[38;5;124m\"\u001b[39m\u001b[38;5;124mMin Doctors:\u001b[39m\u001b[38;5;124m\"\u001b[39m, min_doctors)\n",
      "\u001b[1;31mNameError\u001b[0m: name 'find_doctors_with_max_min_patients' is not defined"
     ]
    }
   ],
   "source": [
    "max_doctors, min_doctors = find_doctors_with_max_min_patients()\n",
    "print(\"Max Doctors:\", max_doctors)\n",
    "print(\"Min Doctors:\", min_doctors)\n"
   ]
  },
  {
   "cell_type": "code",
   "execution_count": null,
   "id": "babb04d3",
   "metadata": {},
   "outputs": [],
   "source": []
  },
  {
   "cell_type": "code",
   "execution_count": null,
   "id": "86783eb3",
   "metadata": {},
   "outputs": [],
   "source": []
  },
  {
   "cell_type": "code",
   "execution_count": null,
   "id": "44470ffe",
   "metadata": {},
   "outputs": [],
   "source": []
  },
  {
   "cell_type": "code",
   "execution_count": null,
   "id": "22110551",
   "metadata": {},
   "outputs": [],
   "source": [
    "\n",
    "\n"
   ]
  }
 ],
 "metadata": {
  "kernelspec": {
   "display_name": "Python 3 (ipykernel)",
   "language": "python",
   "name": "python3"
  },
  "language_info": {
   "codemirror_mode": {
    "name": "ipython",
    "version": 3
   },
   "file_extension": ".py",
   "mimetype": "text/x-python",
   "name": "python",
   "nbconvert_exporter": "python",
   "pygments_lexer": "ipython3",
   "version": "3.11.5"
  }
 },
 "nbformat": 4,
 "nbformat_minor": 5
}
